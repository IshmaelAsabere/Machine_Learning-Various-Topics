{
 "cells": [
  {
   "cell_type": "markdown",
   "metadata": {},
   "source": [
    "# <font color=\"red\"> Annaconda Essentials <font>"
   ]
  },
  {
   "cell_type": "markdown",
   "metadata": {},
   "source": [
    "## Installing Packages"
   ]
  },
  {
   "cell_type": "code",
   "execution_count": null,
   "metadata": {},
   "outputs": [],
   "source": [
    "##############\n",
    "# 1) Packages\n",
    "##############\n",
    "# Numpy # cytoolz # Pandas # attrs etc etc\n",
    "\n",
    "'''\n",
    "# Introduction\n",
    "###############\n",
    "Conda is an open source, cross-platform tool for managing packages and working environments for many different programming languages. \n",
    "\n",
    "Conda packages are files containing a bundle of resources: usually libraries and executables.\n",
    "    # But it can include data, images, notebooks, or other assets. \n",
    "    # The command-line tool conda is used to install, remove and examine packages; \n",
    "    # Other tools such as the GUI Anaconda Navigator also expose the same capabilities.    \n",
    "\n",
    "Conda packages are most widely used with Python, but that's not all. \n",
    "    # Nothing about the Conda package format or the conda tool itself assumes any specific programming language. \n",
    "    # Conda packages can also be used for bundling libraries in other languages (like R, Scala, Julia, etc.) \n",
    "    # or simply for distributing pure binary executables generated from any programming language.\n",
    "\n",
    "One of the powerful aspects of conda — both the tool and the package format — is that dependencies are taken care of. \n",
    "    # That is, when you install any Conda package, any other packages needed get installed automatically. \n",
    "    # Tracking and determining software dependencies is a hard problem that package managers like Conda are designed to solve.\n",
    "\n",
    "A Conda package, then, is a file containing all files needed to make a given program execute correctly on a given system. \n",
    "    # Moreover, a Conda package can contain binary artifacts specific to a particular platform or operating system. \n",
    "    # Most packages (and their dependencies) are available for Windows (win-32 or win-64), for OSX (osx-64), and for Linux (linux-32 or linux-64). \n",
    "    # A small number of Conda packages are available for more specialized platforms (e.g., Raspberry Pi 2 or POWER8 LE). \n",
    "    # As a user, you do not need to specify the platform since Conda will simply choose the Conda package appropriate for the platform you are using.\n",
    "Note that, each conda package does contain resources for one specific platform; the tool conda selects which package when it is invoked.\n",
    "'''"
   ]
  },
  {
   "cell_type": "code",
   "execution_count": null,
   "metadata": {},
   "outputs": [],
   "source": [
    "# What Version\n",
    "###############\n",
    "conda --help\n",
    "conda -h\n",
    "conda --version\n",
    "conda -V"
   ]
  },
  {
   "cell_type": "code",
   "execution_count": null,
   "metadata": {},
   "outputs": [],
   "source": [
    "# Installing a conda package\n",
    "############################\n",
    "### Conda install Help\n",
    "conda install --help #Helpful resources related to conda install\n",
    "conda install package_spec # Packages to install into the conda environment. # List of current channels,# Available channels\n",
    "conda install Numpy\n",
    "\n",
    "\n",
    "### Conda Install Packages\n",
    "conda install foo-lib\n",
    "conda install cytoolz # to install cytoolz in the conda shell\n",
    "    # The tool first determines which operating system you are running, and then narrows the match to candidates made for this platform\n",
    "    # Then, it determines the version of Python on the system (Python 3.7), and chooses the package version for -py37\n",
    "    # Suppose \"foo-lib\" is available in versions 1.0, 1.1, 1.2, 2.0, 2.1, 2.2, 2.3, 3.0, 3.1 (for your platform and Python version). \n",
    "        # As a first goal, conda will attempt to choose the latest version of \"foo-lib\" for your system which is 3.1\n",
    "    # However, maybe foo-lib depends on bar-lib, which itself is available in various versions (say 1 through 20 in its versioning scheme). \n",
    "        # It might be that \"foo-lib\" 3.1 is compatible with bar-lib versions 17, 18, and 19; \n",
    "        # but \"blob-lib\" (which is already installed on your system) is compatible only with versions of \"bar-lib\" less than 17.\n",
    "    # Then, conda would examine the compatibility of \"foo-lib\" 3.0 as a fallback - img \"conda install foo-lib.png\"\n",
    "    \n",
    "\n",
    "### Semantic Versioning\n",
    "# Under semantic versioning, software is labeled with a three-part version identifier of the form MAJOR.MINOR.PATCH\n",
    "\n",
    "\n",
    "### List package versions\n",
    "# Because conda installs packages automatically, it's hard to know which package versions are actually on your system\n",
    "conda list\n",
    "conda list --help\n",
    "\n",
    "\n",
    "### Specify package version to install\n",
    "conda install foo-lib=12.3\n",
    "conda install 'bar-lib=1.0|1.4*' #To install either bar-lib versions 1.0, 1.4 or 1.4.1b2, but definitely not version 1.1, 1.2 or 1.3\n",
    "conda install 'attrs >16, <18'\n",
    "\n",
    "\n",
    "\n",
    "### Update Conda Package\n",
    "conda update pandas\n",
    "conda update foo bar blob\n",
    "\n",
    "\n",
    "### Remove conda package\n",
    "conda remove PKGNAME\n",
    "conda remove foo bar blob\n",
    "\n",
    "### What versions are available for specific packages\n",
    "conda search attrs # List packages available for the package \"attrs\"\n",
    "conda search package_name --info\n",
    "conda search attrs --info\n",
    "\n"
   ]
  },
  {
   "cell_type": "markdown",
   "metadata": {},
   "source": [
    "## Utilizing Channels"
   ]
  },
  {
   "cell_type": "code",
   "execution_count": null,
   "metadata": {},
   "outputs": [],
   "source": [
    "# Intro to channels\n",
    "###################\n",
    "# A Conda channel is an identifier of a path (e.g., as in a web address) from which Conda packages can be obtained. \n",
    "# Using the public cloud, installing without specifying a channel points to the main channel at https://repo.continuum.io/pkgs/main\n",
    "# You can be working in a firewalled or airgapped environment with a private installation of Anaconda Repository, in that case, your default channel may point to a different (internal) URL, but the same concepts will apply.\n",
    "## Anyone may register for an account with Anaconda Cloud, thereby creating their own personal Conda channel\n",
    "\n",
    "\n",
    "# Default, non-default, and special channels\n",
    "#############################################\n",
    "# You should generally trust or rely only on packages sourced from reputable channels\n",
    "# default channel > by Anaconda Cloud \n",
    "# \"conda-forge\" > by the community has wide range of paackages # https://github.com/conda-forge\n",
    "\n",
    "\n",
    "# Installing from a channel\n",
    "###########################\n",
    "# The whole point of having channels is to be able to install packages from them\n",
    "# conda install --channel my-organization the-package\n",
    "# Install a package named \"youtube-dl\" which exists on \"conda-forge\" but is not available on the default channel\n",
    "conda install --channel conda-forge youtube-dl\n",
    "\n",
    "\n",
    "\n",
    "\n"
   ]
  },
  {
   "cell_type": "code",
   "execution_count": null,
   "metadata": {},
   "outputs": [],
   "source": [
    "# Searching within channels\n",
    "############################\n",
    "conda search --channel davidmertz --override-channels --platform linux-64 # Course Instructors channels # --override-channels is used to prevent searching on default channels.\n",
    "# To know which versions of the package of textadapter for the win-64 platform are available for any version of Python\n",
    "conda search -c conda-forge -c sseefeld -c gbrener --platform win-64 textadapter\n",
    "# search for textadapter across all channels - If we do not know the specific channel it belongs to\n",
    "anaconda search textadapter\n",
    "# Search for the package \"boltons\" to determine the latest version\n",
    "anaconda search boltons"
   ]
  },
  {
   "cell_type": "markdown",
   "metadata": {},
   "source": [
    "## Working with Environments"
   ]
  },
  {
   "cell_type": "code",
   "execution_count": null,
   "metadata": {},
   "outputs": [],
   "source": [
    "'''\n",
    "# Without the concept of environments, users essentially rely on and are restricted to whichever particular package versions are installed globally (or in their own user accounts) on a particular machine.\n",
    "# Conda environments allow multiple incompatible versions of the same (software) package to coexist on your system in different \"environments\"\n",
    "# An environment is simply a file path containing a collection of mutually compatible packages. \n",
    "    # By isolating distinct versions of a given package (and their dependencies) in distinct environments, \n",
    "    # those versions are all available to work on particular projects or tasks.\n",
    "# For example, you may develop a project comprising scripts, notebooks, libraries, or other resources that depend on a particular collection of package versions. \n",
    "    #You later want to be able to switch flexibly to newer versions of those packages and to ensure the project continues to function properly before switching wholly\n",
    "'''\n",
    "\n",
    "# Which Environment is in use\n",
    "# A current environment has a name and contains a collection of packages currently associated with that environment.\n",
    "base # Default # root\n",
    "\n",
    "# List the environments\n",
    "conda env list            # List all available environments\n",
    "\n"
   ]
  },
  {
   "cell_type": "code",
   "execution_count": null,
   "metadata": {},
   "outputs": [],
   "source": [
    "# WHat packages are in the environment\n",
    "conda list                                    # List all packages in the current environmnt\n",
    "conda list 'numpy|pandas'                     # Being specific about the packages in the current environment \n",
    "conda list --name test-env                    # Querying different environments outside my current environment\n",
    "conda list --name test-env 'numpy|pandas'     # Querying different environments with specified packages outside my current environment\n",
    " "
   ]
  },
  {
   "cell_type": "code",
   "execution_count": null,
   "metadata": {},
   "outputs": [],
   "source": [
    "# Switching between environments\n",
    "################################\n",
    "# This is typically done at the command line\n",
    "conda env list               # List all available environments\n",
    "conda activate course-env    # To switch to a specific environment name \"course-env\"\n",
    "conda activate pd-2015       # To switch to a specific environment name \"pd-2015\"\n",
    "conda deactivate             # To switch away from current environment and returns to \"base\"\n"
   ]
  },
  {
   "cell_type": "code",
   "execution_count": null,
   "metadata": {},
   "outputs": [],
   "source": [
    "# Remove an environment\n",
    "########################\n",
    "conda env list            # List all available environments\n",
    "conda env remove --name ENVNAME # To delete a specific environment\n",
    "conda env remove --name deprecated # Delete a specific environment called deprecated\n"
   ]
  },
  {
   "cell_type": "code",
   "execution_count": null,
   "metadata": {},
   "outputs": [],
   "source": [
    "# Create a new environment\n",
    "##########################\n",
    "# The general syntax\n",
    "conda create --name recent-pd python=3.6 pandas=0.22 scipy statsmodels # Creates Environment and installs packages\n",
    "#conda install <packages-name> # Install the packages\n",
    "# conda list # list all packages on the platform\n",
    "\n",
    "# Demo 1\n",
    "############\n",
    "# Create a new environment called conda-essentials that contains attrs version 19.1.0 and the best available version of cytoolz (we pick these examples for illustration largely because they are small and have few dependencies).\n",
    "conda create --name conda-essentials attrs=19.1.0 cytoolz -y\n",
    "# witch into the environment you just created named conda-essentials.\n",
    "conda activate conda-essentials\n",
    "# Examine all the software packages installed in the current conda-essentials environment.\n",
    "conda list"
   ]
  },
  {
   "cell_type": "code",
   "execution_count": null,
   "metadata": {},
   "outputs": [],
   "source": [
    "# Export an Environment\n",
    "#######################\n",
    "# Demo 1 - Export the environment called \"course-env\" to the file course-env.yml.\n",
    "conda env list # List all all environments\n",
    "conda env export --name course-env --file course-env.yml\n",
    "\n"
   ]
  },
  {
   "cell_type": "code",
   "execution_count": null,
   "metadata": {},
   "outputs": [],
   "source": [
    "# Import an Environment from \"file-name.yml\" file \n",
    "#################################################\n",
    "# To create an environment from \"file-name.yml\"\n",
    "conda env create --file file-name.yml\n",
    "\n",
    "### Demo 1 - A file \"environment.yml\" exists in the local directory within the current session. Use this file to create an environment called \"shared-project\".\n",
    "# Preview the file \"environment.yml\" \n",
    "cat environment.yml \n",
    "# Using this file \"environment.yml\" to create an environment called \"shared-project\".\n",
    "conda env create --file environment.yml --name shared-project\n",
    "\n",
    "### Demo 2 - The current session directory also has a file named 'shared-config.yml'. Use 'shared-config.yml' to create an environment called \"functional-data\".\n",
    "conda env create --file shared-config.yml --name functional-data\n"
   ]
  },
  {
   "cell_type": "markdown",
   "metadata": {},
   "source": [
    "## Case Study on Using Environments"
   ]
  },
  {
   "cell_type": "code",
   "execution_count": null,
   "metadata": {},
   "outputs": [],
   "source": [
    "# Compatibility with different versions - As applied to python script\n",
    "# run .py script in an environment, change the environment and run again\n",
    "#####################################################################################\n",
    "# A common case for using environments is in developing scripts or Jupyter notebooks that rely on particular software versions for their functionality. \n",
    "# Over time, the underlying tools might change, making updating the scripts worthwhile. \n",
    "# Being able to switch between environments with different versions of the underlying packages installed makes this development process much easier.\n",
    "\n",
    "\n",
    "# The file \"weekly_humidity.py\" is stored in the current session. \n",
    "# First just take a look at it using the Unix tool cat. \n",
    "# You will see that the purpose of this script is rather trivial: it shows the last few days of the rolling mean of humidity taken from a data file. \n",
    "# It would be easy to generalize this with switches to show different periods, different rolling intervals, different data sources, etc.\n",
    "cat weekly_humidity.py\n",
    "\n",
    "# Run the script (in the current base environment).\n",
    "python weekly_humidity.py\n",
    "\n",
    "# The script ran and produced a little report of the rolling mean of humidity. \n",
    "# However, it also produced some rather noisy complaints about deprecated syntax in the Pandas library (called a FutureWarning). \n",
    "# You now remember that you created this script a few years ago when you were using the pd-2015 environment. \n",
    "# Switch to the environment \"pd-2015\".\n",
    "conda activate pd-2015\n",
    "\n",
    "# Run the script in the current pd-2015 environment. \n",
    "# You will notice that the report itself is the same, but the FutureWarning is not present. For a first step, this is how to utilize this script.\n",
    "python weekly_humidity.py\n",
    "\n",
    "\n",
    "\n",
    "# Updating a Script\n",
    "###################\n",
    "# Step 1 - Make modification to the script. Use \"nano\" to edit the \"<file-name>.py\" script so the last line changes to \"print(humidity.rolling(7).mean().tail(5))\":\n",
    "nano weekly_humidity.py\n",
    "\n",
    "# Step 2 - Run the modified script in current active base environment which contains pandas 0.22 (Latest)\n",
    "python weekly_humidity.py\n",
    "\n",
    "# Step 3 - Switch to a different environment \"pd-2015\" environment which contains pandas 0.17\n",
    "conda activate pd-2015\n",
    "\n",
    "# Run the script in the current \"pd-2015\" environment. \n",
    "# You will notice that a new failure mode occurs now because Pandas 0.17 does not support the newer API you have used in your modified script.\n",
    "python weekly_humidity.py"
   ]
  },
  {
   "cell_type": "code",
   "execution_count": null,
   "metadata": {},
   "outputs": [],
   "source": []
  },
  {
   "cell_type": "markdown",
   "metadata": {},
   "source": [
    "# <font color=\"red\"> Building and Distributing Packages with Conda <font>"
   ]
  },
  {
   "cell_type": "code",
   "execution_count": null,
   "metadata": {},
   "outputs": [],
   "source": [
    "### 2.1 "
   ]
  },
  {
   "cell_type": "code",
   "execution_count": null,
   "metadata": {},
   "outputs": [],
   "source": []
  },
  {
   "cell_type": "code",
   "execution_count": null,
   "metadata": {},
   "outputs": [],
   "source": [
    "### 2.2"
   ]
  },
  {
   "cell_type": "code",
   "execution_count": null,
   "metadata": {},
   "outputs": [],
   "source": []
  },
  {
   "cell_type": "code",
   "execution_count": null,
   "metadata": {},
   "outputs": [],
   "source": [
    "### 2.3"
   ]
  },
  {
   "cell_type": "code",
   "execution_count": null,
   "metadata": {},
   "outputs": [],
   "source": []
  },
  {
   "cell_type": "code",
   "execution_count": null,
   "metadata": {},
   "outputs": [],
   "source": [
    "### 2.4"
   ]
  },
  {
   "cell_type": "code",
   "execution_count": null,
   "metadata": {},
   "outputs": [],
   "source": []
  },
  {
   "cell_type": "code",
   "execution_count": null,
   "metadata": {},
   "outputs": [],
   "source": []
  },
  {
   "cell_type": "markdown",
   "metadata": {},
   "source": [
    "# <font color=\"red\"> WIP 1 <font>"
   ]
  },
  {
   "cell_type": "code",
   "execution_count": null,
   "metadata": {},
   "outputs": [],
   "source": [
    "### 3.1 "
   ]
  },
  {
   "cell_type": "code",
   "execution_count": null,
   "metadata": {},
   "outputs": [],
   "source": []
  },
  {
   "cell_type": "code",
   "execution_count": null,
   "metadata": {},
   "outputs": [],
   "source": [
    "### 3.2 "
   ]
  },
  {
   "cell_type": "code",
   "execution_count": null,
   "metadata": {},
   "outputs": [],
   "source": []
  },
  {
   "cell_type": "code",
   "execution_count": null,
   "metadata": {},
   "outputs": [],
   "source": [
    "### 3.3 "
   ]
  },
  {
   "cell_type": "code",
   "execution_count": null,
   "metadata": {},
   "outputs": [],
   "source": []
  },
  {
   "cell_type": "code",
   "execution_count": null,
   "metadata": {},
   "outputs": [],
   "source": [
    "### 3.4 "
   ]
  },
  {
   "cell_type": "code",
   "execution_count": null,
   "metadata": {},
   "outputs": [],
   "source": []
  },
  {
   "cell_type": "code",
   "execution_count": null,
   "metadata": {},
   "outputs": [],
   "source": [
    "### 3.5"
   ]
  },
  {
   "cell_type": "code",
   "execution_count": null,
   "metadata": {},
   "outputs": [],
   "source": []
  },
  {
   "cell_type": "markdown",
   "metadata": {},
   "source": [
    "# <font color=\"red\"> WIP 2 <font>"
   ]
  },
  {
   "cell_type": "code",
   "execution_count": null,
   "metadata": {},
   "outputs": [],
   "source": [
    "### 4.1 "
   ]
  },
  {
   "cell_type": "code",
   "execution_count": null,
   "metadata": {},
   "outputs": [],
   "source": []
  },
  {
   "cell_type": "code",
   "execution_count": null,
   "metadata": {},
   "outputs": [],
   "source": [
    "### 4.2 "
   ]
  },
  {
   "cell_type": "code",
   "execution_count": null,
   "metadata": {},
   "outputs": [],
   "source": []
  },
  {
   "cell_type": "code",
   "execution_count": null,
   "metadata": {},
   "outputs": [],
   "source": [
    "### 4.3"
   ]
  },
  {
   "cell_type": "code",
   "execution_count": null,
   "metadata": {},
   "outputs": [],
   "source": []
  },
  {
   "cell_type": "code",
   "execution_count": null,
   "metadata": {},
   "outputs": [],
   "source": [
    "### 4.4"
   ]
  },
  {
   "cell_type": "code",
   "execution_count": null,
   "metadata": {},
   "outputs": [],
   "source": []
  },
  {
   "cell_type": "markdown",
   "metadata": {},
   "source": [
    "# <font color=\"red\"> WIP 3 <font>"
   ]
  },
  {
   "cell_type": "code",
   "execution_count": null,
   "metadata": {},
   "outputs": [],
   "source": [
    "## 5.1 "
   ]
  },
  {
   "cell_type": "code",
   "execution_count": null,
   "metadata": {},
   "outputs": [],
   "source": []
  },
  {
   "cell_type": "code",
   "execution_count": null,
   "metadata": {},
   "outputs": [],
   "source": [
    "## 5.2 "
   ]
  },
  {
   "cell_type": "code",
   "execution_count": null,
   "metadata": {},
   "outputs": [],
   "source": []
  },
  {
   "cell_type": "code",
   "execution_count": null,
   "metadata": {},
   "outputs": [],
   "source": [
    "## 5.3 "
   ]
  },
  {
   "cell_type": "code",
   "execution_count": null,
   "metadata": {},
   "outputs": [],
   "source": []
  },
  {
   "cell_type": "code",
   "execution_count": null,
   "metadata": {},
   "outputs": [],
   "source": [
    "## 5.4"
   ]
  },
  {
   "cell_type": "code",
   "execution_count": null,
   "metadata": {},
   "outputs": [],
   "source": []
  }
 ],
 "metadata": {
  "kernelspec": {
   "display_name": "Python 3",
   "language": "python",
   "name": "python3"
  },
  "language_info": {
   "codemirror_mode": {
    "name": "ipython",
    "version": 3
   },
   "file_extension": ".py",
   "mimetype": "text/x-python",
   "name": "python",
   "nbconvert_exporter": "python",
   "pygments_lexer": "ipython3",
   "version": "3.7.6"
  }
 },
 "nbformat": 4,
 "nbformat_minor": 4
}
